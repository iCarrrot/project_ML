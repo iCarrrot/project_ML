{
 "nbformat": 4,
 "nbformat_minor": 2,
 "metadata": {
  "language_info": {
   "name": "python",
   "codemirror_mode": {
    "name": "ipython",
    "version": 3
   },
   "version": "3.7.4-final"
  },
  "orig_nbformat": 2,
  "file_extension": ".py",
  "mimetype": "text/x-python",
  "name": "python",
  "npconvert_exporter": "python",
  "pygments_lexer": "ipython3",
  "version": 3,
  "kernelspec": {
   "name": "python37464bitbasecondae13245c089e64e918f2b403c312b0933",
   "display_name": "Python 3.7.4 64-bit ('base': conda)"
  }
 },
 "cells": [
  {
   "cell_type": "code",
   "execution_count": 12,
   "metadata": {},
   "outputs": [
    {
     "name": "stdout",
     "output_type": "stream",
     "text": "The autoreload extension is already loaded. To reload it, use:\n  %reload_ext autoreload\n"
    }
   ],
   "source": [
    "import numpy as np\n",
    "import pandas as pd\n",
    "from scipy.sparse import coo_matrix\n",
    "import scipy.sparse.linalg as sa\n",
    "from sklearn.model_selection import train_test_split\n",
    "\n",
    "%matplotlib inline\n",
    "%load_ext autoreload\n",
    "%autoreload 2"
   ]
  },
  {
   "cell_type": "code",
   "execution_count": 13,
   "metadata": {},
   "outputs": [],
   "source": [
    "import util\n",
    "\n",
    "def load_data(size='small', test_size=0.3):\n",
    "    ratings = util.read_files(size=size)[0]\n",
    "    movie_counts = ratings.groupby('movieId').count()\n",
    "    good_movies = set(movie_counts[movie_counts['userId'] > 20].index)\n",
    "    # print(len(good_movies))\n",
    "    ratings = ratings[ratings.movieId.isin(good_movies)]\n",
    "    indices = np.unique(ratings['movieId'].values, return_inverse=True)[1]\n",
    "    ratings['movieId'] = indices.astype('int32')\n",
    "    return train_test_split(ratings, test_size=test_size)\n",
    "\n",
    "train, test = load_data(size='small', test_size=0.1)"
   ]
  },
  {
   "cell_type": "markdown",
   "execution_count": 4,
   "metadata": {},
   "outputs": [],
   "source": [
    "# Item-item collaborative filtering\n",
    "First precompute similarity matrix between all items\n",
    "using cosine distance between rows of utility (`item x user`) matrix\n",
    "\n",
    "Then predict unknown score for given `user` and `movie` by taking\n",
    "weighted average of all ratings of this user"
   ]
  },
  {
   "cell_type": "code",
   "execution_count": 9,
   "metadata": {},
   "outputs": [],
   "source": [
    "def calculate_item_item_similarity(ratings):\n",
    "    \"\"\"\n",
    "    Calculate matrix of cosine distances between movies\n",
    "    treated as vectors of ratings \n",
    "    \"\"\"\n",
    "    # Calculate the dot-products of ratings for all movies\n",
    "    # Use sparse matrix for calculation to accomodate large data-set (~260k users, ~53k movies)\n",
    "    # Storing results as dense matrix, allows us to use in-place operations\n",
    "    # and provides faster indexing\n",
    "    ii_similarity = coo_matrix(\n",
    "        (ratings['rating'], (ratings['movieId'], ratings['userId']))\n",
    "        ).tocsr()\n",
    "    ii_similarity = ii_similarity.dot(ii_similarity.transpose()).toarray()\n",
    "    \n",
    "    d = 1 / np.sqrt(ii_similarity.diagonal())\n",
    "    ii_similarity *= d.reshape((-1, 1))\n",
    "    ii_similarity *= d.reshape((1, -1))\n",
    "    return ii_similarity"
   ]
  },
  {
   "cell_type": "code",
   "execution_count": 5,
   "metadata": {},
   "outputs": [],
   "source": [
    "ii_similarity = calculate_item_item_similarity(train)\n",
    "\n",
    "def predict(user, movie, ratings=train):\n",
    "    \"\"\"\n",
    "    Predict rating of movie by user by calculating weighted average\n",
    "    of ratings given by this user to other movies\n",
    "    \"\"\"\n",
    "    other = ratings[ratings['userId'] == user]\n",
    "    if other.empty:\n",
    "        return 0\n",
    "    similarities = ii_similarity[movie, other['movieId']]\n",
    "    tmp = similarities * other['rating']\n",
    "    tmp = np.sum(tmp) / similarities.sum()\n",
    "    if np.isnan(tmp):\n",
    "        print('NAN')\n",
    "    return tmp"
   ]
  },
  {
   "cell_type": "markdown",
   "execution_count": null,
   "metadata": {},
   "outputs": [],
   "source": [
    "Asses rating prediction by calculating RMSE (Root Mean Square Error)"
   ]
  },
  {
   "cell_type": "code",
   "execution_count": 8,
   "metadata": {},
   "outputs": [
    {
     "name": "stdout",
     "output_type": "stream",
     "text": "8570.820938778888\n"
    },
    {
     "data": {
      "text/plain": "0.9257872832772596"
     },
     "execution_count": 8,
     "metadata": {},
     "output_type": "execute_result"
    }
   ],
   "source": [
    "s = 0\n",
    "num_samples = min(len(test.index), 10000)\n",
    "for r in test.head(num_samples).itertuples():\n",
    "    p = predict(r.userId, r.movieId)\n",
    "    s += np.float64((p - r.rating) ** 2)\n",
    "s /= num_samples\n",
    "s = np.sqrt(s)\n",
    "s"
   ]
  },
  {
   "cell_type": "markdown",
   "execution_count": 13,
   "metadata": {},
   "outputs": [
    {
     "data": {
      "text/html": "<div>\n<style scoped>\n    .dataframe tbody tr th:only-of-type {\n        vertical-align: middle;\n    }\n\n    .dataframe tbody tr th {\n        vertical-align: top;\n    }\n\n    .dataframe thead th {\n        text-align: right;\n    }\n</style>\n<table border=\"1\" class=\"dataframe\">\n  <thead>\n    <tr style=\"text-align: right;\">\n      <th></th>\n      <th>userId</th>\n      <th>movieId</th>\n      <th>rating</th>\n    </tr>\n  </thead>\n  <tbody>\n    <tr>\n      <td>0</td>\n      <td>1</td>\n      <td>304</td>\n      <td>3.5</td>\n    </tr>\n    <tr>\n      <td>1</td>\n      <td>1</td>\n      <td>477</td>\n      <td>3.5</td>\n    </tr>\n    <tr>\n      <td>2</td>\n      <td>1</td>\n      <td>1069</td>\n      <td>1.5</td>\n    </tr>\n    <tr>\n      <td>3</td>\n      <td>1</td>\n      <td>1229</td>\n      <td>4.5</td>\n    </tr>\n    <tr>\n      <td>4</td>\n      <td>1</td>\n      <td>1414</td>\n      <td>4.5</td>\n    </tr>\n    <tr>\n      <td>5</td>\n      <td>1</td>\n      <td>1538</td>\n      <td>2.5</td>\n    </tr>\n    <tr>\n      <td>6</td>\n      <td>1</td>\n      <td>1539</td>\n      <td>1.5</td>\n    </tr>\n    <tr>\n      <td>7</td>\n      <td>1</td>\n      <td>2051</td>\n      <td>4.5</td>\n    </tr>\n    <tr>\n      <td>8</td>\n      <td>1</td>\n      <td>2394</td>\n      <td>4.0</td>\n    </tr>\n    <tr>\n      <td>9</td>\n      <td>1</td>\n      <td>2755</td>\n      <td>3.0</td>\n    </tr>\n    <tr>\n      <td>10</td>\n      <td>1</td>\n      <td>2901</td>\n      <td>2.5</td>\n    </tr>\n    <tr>\n      <td>11</td>\n      <td>1</td>\n      <td>2935</td>\n      <td>4.0</td>\n    </tr>\n    <tr>\n      <td>12</td>\n      <td>1</td>\n      <td>3336</td>\n      <td>4.5</td>\n    </tr>\n    <tr>\n      <td>13</td>\n      <td>1</td>\n      <td>3608</td>\n      <td>3.5</td>\n    </tr>\n    <tr>\n      <td>14</td>\n      <td>1</td>\n      <td>3735</td>\n      <td>2.0</td>\n    </tr>\n    <tr>\n      <td>15</td>\n      <td>1</td>\n      <td>3801</td>\n      <td>3.5</td>\n    </tr>\n  </tbody>\n</table>\n</div>",
      "text/plain": "    userId  movieId  rating\n0        1      304     3.5\n1        1      477     3.5\n2        1     1069     1.5\n3        1     1229     4.5\n4        1     1414     4.5\n5        1     1538     2.5\n6        1     1539     1.5\n7        1     2051     4.5\n8        1     2394     4.0\n9        1     2755     3.0\n10       1     2901     2.5\n11       1     2935     4.0\n12       1     3336     4.5\n13       1     3608     3.5\n14       1     3735     2.0\n15       1     3801     3.5"
     },
     "execution_count": 13,
     "metadata": {},
     "output_type": "execute_result"
    }
   ],
   "source": [
    "# Singular Value Decomposition\n",
    "Another approach to predicting recommendations is to factorize the utility\n",
    "matrix using SVD. This allows us to extract latent features (either for users or movies)\n",
    "and reduce the dimensionality of the problem"
   ]
  },
  {
   "cell_type": "code",
   "execution_count": 34,
   "metadata": {},
   "outputs": [],
   "source": [
    "utility = coo_matrix(\n",
    "        (train['rating'], (train['movieId'], train['userId']))\n",
    "        ).tocsr()\n",
    "u, s, vt = sa.svds(utility, k=100)\n",
    "u = u @ np.diag(s)\n",
    "\n",
    "def predict(user, movie):\n",
    "    return u[movie, :] @ vt[:, user]"
   ]
  },
  {
   "cell_type": "code",
   "execution_count": 35,
   "metadata": {},
   "outputs": [
    {
     "data": {
      "text/plain": "3.254033183472906"
     },
     "execution_count": 35,
     "metadata": {},
     "output_type": "execute_result"
    }
   ],
   "source": [
    "s = 0\n",
    "num_samples = min(len(test.index), 10000)\n",
    "for r in test.head(num_samples).itertuples():\n",
    "    p = predict(r.userId, r.movieId)\n",
    "    s += np.float64((p - r.rating) ** 2)\n",
    "s /= num_samples\n",
    "s = np.sqrt(s)\n",
    "s"
   ]
  }
 ]
}