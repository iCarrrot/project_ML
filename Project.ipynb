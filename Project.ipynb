{
 "cells": [
  {
   "cell_type": "code",
   "execution_count": 37,
   "metadata": {},
   "outputs": [
    {
     "name": "stdout",
     "output_type": "stream",
     "text": [
      "The autoreload extension is already loaded. To reload it, use:\n",
      "  %reload_ext autoreload\n"
     ]
    },
    {
     "data": {
      "text/plain": [
       "{'Action',\n",
       " 'Adventure',\n",
       " 'Animation',\n",
       " 'Children',\n",
       " 'Comedy',\n",
       " 'Crime',\n",
       " 'Documentary',\n",
       " 'Drama',\n",
       " 'Fantasy',\n",
       " 'Film-Noir',\n",
       " 'Horror',\n",
       " 'IMAX',\n",
       " 'Musical',\n",
       " 'Mystery',\n",
       " 'Romance',\n",
       " 'Sci-Fi',\n",
       " 'Thriller',\n",
       " 'War',\n",
       " 'Western'}"
      ]
     },
     "execution_count": 37,
     "metadata": {},
     "output_type": "execute_result"
    }
   ],
   "source": [
    "%matplotlib inline\n",
    "%load_ext autoreload\n",
    "%autoreload 2\n",
    "\n",
    "import numpy as np\n",
    "import matplotlib.pyplot as plt\n",
    "import pandas as pd\n",
    "from scipy.sparse import coo_matrix, eye\n",
    "from scipy.sparse.linalg import svds\n",
    "from sklearn.metrics import mean_squared_error\n",
    "\n",
    "from sklearn import datasets\n",
    "from sklearn.ensemble import RandomForestClassifier, ExtraTreesClassifier\n",
    "from sklearn import tree\n",
    "from sklearn.decomposition import PCA\n",
    "from sklearn.cluster import KMeans, Birch, DBSCAN\n",
    "from itertools import chain\n",
    "\n",
    "\n",
    "ratings = pd.read_csv(\"data/ml-latest-small/ratings.csv\", sep=\",\", header=0, engine='python')\n",
    "movies = pd.read_csv(\"data/ml-latest-small/movies.csv\", sep=\",\", header=0, engine='python')\n",
    "\n",
    "# Getting all the available movie genres\n",
    "genres = set(chain(*[x.split(\"|\") for x in movies[\"genres\"]]))\n",
    "genres.remove(\"(no genres listed)\")\n",
    "\n",
    "# \"genres vector\"\n",
    "for v in genres:\n",
    "    movies[v] = movies['genres'].str.contains(v)\n",
    "\n",
    "# movies mean raiting\n",
    "movies = movies.merge(ratings.groupby('movieId')['rating'].agg([pd.np.mean]), how='left', on='movieId')\n",
    "\n",
    "genres"
   ]
  },
  {
   "cell_type": "code",
   "execution_count": 38,
   "metadata": {},
   "outputs": [
    {
     "data": {
      "text/plain": [
       "(   userId  movieId  rating  timestamp\n",
       " 0       1        1     4.0  964982703\n",
       " 1       1        3     4.0  964981247\n",
       " 2       1        6     4.0  964982224\n",
       " 3       1       47     5.0  964983815\n",
       " 4       1       50     5.0  964982931,\n",
       " None,\n",
       "    movieId                               title  \\\n",
       " 0        1                    Toy Story (1995)   \n",
       " 1        2                      Jumanji (1995)   \n",
       " 2        3             Grumpier Old Men (1995)   \n",
       " 3        4            Waiting to Exhale (1995)   \n",
       " 4        5  Father of the Bride Part II (1995)   \n",
       " \n",
       "                                         genres  Thriller  Film-Noir  Sci-Fi  \\\n",
       " 0  Adventure|Animation|Children|Comedy|Fantasy     False      False   False   \n",
       " 1                   Adventure|Children|Fantasy     False      False   False   \n",
       " 2                               Comedy|Romance     False      False   False   \n",
       " 3                         Comedy|Drama|Romance     False      False   False   \n",
       " 4                                       Comedy     False      False   False   \n",
       " \n",
       "    Action  Western  Animation    War  ...  Romance  Comedy  Documentary  \\\n",
       " 0   False    False       True  False  ...    False    True        False   \n",
       " 1   False    False      False  False  ...    False   False        False   \n",
       " 2   False    False      False  False  ...     True    True        False   \n",
       " 3   False    False      False  False  ...     True    True        False   \n",
       " 4   False    False      False  False  ...    False    True        False   \n",
       " \n",
       "    Adventure  Crime  Children   IMAX  Musical  Horror  Fantasy  \n",
       " 0       True  False      True  False    False   False     True  \n",
       " 1       True  False      True  False    False   False     True  \n",
       " 2      False  False     False  False    False   False    False  \n",
       " 3      False  False     False  False    False   False    False  \n",
       " 4      False  False     False  False    False   False    False  \n",
       " \n",
       " [5 rows x 22 columns])"
      ]
     },
     "execution_count": 38,
     "metadata": {},
     "output_type": "execute_result"
    }
   ],
   "source": [
    "ratings.head(),None, movies.head()"
   ]
  },
  {
   "cell_type": "markdown",
   "metadata": {},
   "source": [
    "# Macierz użyteczności\n",
    "\n",
    "Ocena filmu przez użytkownika"
   ]
  },
  {
   "cell_type": "code",
   "execution_count": 39,
   "metadata": {},
   "outputs": [
    {
     "data": {
      "text/plain": [
       "(array([[0. , 0. , 0. , ..., 0. , 0. , 0. ],\n",
       "        [0. , 4. , 0. , ..., 0. , 0. , 0. ],\n",
       "        [0. , 0. , 0. , ..., 0. , 0. , 0. ],\n",
       "        ...,\n",
       "        [0. , 2.5, 2. , ..., 0. , 0. , 0. ],\n",
       "        [0. , 3. , 0. , ..., 0. , 0. , 0. ],\n",
       "        [0. , 5. , 0. , ..., 0. , 0. , 0. ]]), (611, 193610))"
      ]
     },
     "execution_count": 39,
     "metadata": {},
     "output_type": "execute_result"
    }
   ],
   "source": [
    "utility_matrix = coo_matrix((ratings['rating'], (ratings['userId'], ratings['movieId']))).asfptype()\n",
    "\n",
    "utility_matrix.toarray(), utility_matrix.toarray().shape"
   ]
  },
  {
   "cell_type": "code",
   "execution_count": null,
   "metadata": {},
   "outputs": [],
   "source": []
  }
 ],
 "metadata": {
  "kernelspec": {
   "display_name": "Python 3",
   "language": "python",
   "name": "python3"
  },
  "language_info": {
   "codemirror_mode": {
    "name": "ipython",
    "version": 3
   },
   "file_extension": ".py",
   "mimetype": "text/x-python",
   "name": "python",
   "nbconvert_exporter": "python",
   "pygments_lexer": "ipython3",
   "version": "3.7.3"
  }
 },
 "nbformat": 4,
 "nbformat_minor": 2
}
