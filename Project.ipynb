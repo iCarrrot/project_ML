{
 "cells": [
  {
   "cell_type": "code",
   "execution_count": 12,
   "metadata": {
    "pycharm": {
     "is_executing": false
    }
   },
   "outputs": [
    {
     "name": "stdout",
     "text": [
      "The autoreload extension is already loaded. To reload it, use:\n  %reload_ext autoreload\n"
     ],
     "output_type": "stream"
    }
   ],
   "source": [
    "%matplotlib inline\n",
    "%load_ext autoreload\n",
    "%autoreload 2\n",
    "import matplotlib.pyplot as plt\n",
    "import numpy as np\n",
    "import pandas as pd\n",
    "from scipy.sparse import coo_matrix\n",
    "from sklearn import tree\n",
    "from sklearn.decomposition import PCA\n",
    "from sklearn.model_selection import cross_val_score\n",
    "from sklearn.tree import DecisionTreeClassifier\n",
    "\n",
    "from util import *\n",
    "\n",
    "ratings, movies, genres = read_files()"
   ]
  },
  {
   "cell_type": "code",
   "execution_count": 13,
   "metadata": {
    "pycharm": {
     "is_executing": false
    }
   },
   "outputs": [
    {
     "data": {
      "text/plain": "(   userId  movieId  rating  timestamp\n 0       1        1     4.0  964982703\n 1       1        3     4.0  964981247\n 2       1        6     4.0  964982224\n 3       1       47     5.0  964983815\n 4       1       50     5.0  964982931,\n None,\n    movieId                               title  \\\n 0        1                    Toy Story (1995)   \n 1        2                      Jumanji (1995)   \n 2        3             Grumpier Old Men (1995)   \n 3        4            Waiting to Exhale (1995)   \n 4        5  Father of the Bride Part II (1995)   \n \n                                         genres  Drama  Adventure  Animation  \\\n 0  Adventure|Animation|Children|Comedy|Fantasy  False       True       True   \n 1                   Adventure|Children|Fantasy  False       True      False   \n 2                               Comedy|Romance  False      False      False   \n 3                         Comedy|Drama|Romance   True      False      False   \n 4                                       Comedy  False      False      False   \n \n    Sci-Fi  Children  Western  Action  ...  Film-Noir  Crime  Romance  Musical  \\\n 0   False      True    False   False  ...      False  False    False    False   \n 1   False      True    False   False  ...      False  False    False    False   \n 2   False     False    False   False  ...      False  False     True    False   \n 3   False     False    False   False  ...      False  False     True    False   \n 4   False     False    False   False  ...      False  False    False    False   \n \n      War  Mystery   IMAX  Comedy  Fantasy      mean  \n 0  False    False  False    True     True  3.920930  \n 1  False    False  False   False     True  3.431818  \n 2  False    False  False    True    False  3.259615  \n 3  False    False  False    True    False  2.357143  \n 4  False    False  False    True    False  3.071429  \n \n [5 rows x 23 columns])"
     },
     "metadata": {},
     "output_type": "execute_result",
     "execution_count": 13
    }
   ],
   "source": [
    "ratings.head(),None, movies.head()"
   ]
  },
  {
   "cell_type": "markdown",
   "metadata": {},
   "source": [
    "# Macierz użyteczności\n",
    "\n",
    "Ocena filmu przez użytkownika"
   ]
  },
  {
   "cell_type": "code",
   "execution_count": 14,
   "metadata": {
    "pycharm": {
     "is_executing": false
    }
   },
   "outputs": [
    {
     "data": {
      "text/plain": "(array([[0. , 0. , 0. , ..., 0. , 0. , 0. ],\n        [0. , 4. , 0. , ..., 0. , 0. , 0. ],\n        [0. , 0. , 0. , ..., 0. , 0. , 0. ],\n        ...,\n        [0. , 2.5, 2. , ..., 0. , 0. , 0. ],\n        [0. , 3. , 0. , ..., 0. , 0. , 0. ],\n        [0. , 5. , 0. , ..., 0. , 0. , 0. ]]), (611, 193610))"
     },
     "metadata": {},
     "output_type": "execute_result",
     "execution_count": 14
    }
   ],
   "source": [
    "utility_matrix = coo_matrix((ratings['rating'], (ratings['userId'], ratings['movieId']))).asfptype()\n",
    "utility_matrix.toarray(), utility_matrix.toarray().shape"
   ]
  },
  {
   "cell_type": "code",
   "execution_count": 15,
   "metadata": {
    "scrolled": false,
    "pycharm": {
     "is_executing": false
    }
   },
   "outputs": [],
   "source": [
    "# x = np.array((utility_matrix.T @ utility_matrix).sum(axis=0)[:, movies[\"movieId\"]])[0]\n",
    "# for g in genres:\n",
    "#     fig, ax = plt.subplots()\n",
    "#     plt.title(g)\n",
    "#     scatter = ax.scatter(x, x, c = movies[g])\n",
    "#     legend1 = ax.legend(*scatter.legend_elements(),\n",
    "#                     loc=\"lower right\", title=\"Classes\")\n",
    "#     ax.add_artist(legend1)\n",
    "#     plt.show()\n",
    "# "
   ]
  },
  {
   "cell_type": "code",
   "execution_count": 16,
   "metadata": {
    "scrolled": false,
    "pycharm": {
     "is_executing": false
    }
   },
   "outputs": [],
   "source": [
    "# plt.figure(figsize=(10,600))\n",
    "# plt.imshow(utility_matrix.toarray()[:, movies[\"movieId\"]].T)\n",
    "# "
   ]
  },
  {
   "cell_type": "code",
   "execution_count": 17,
   "metadata": {
    "scrolled": true,
    "pycharm": {
     "is_executing": false
    }
   },
   "outputs": [],
   "source": [
    "# pca_model = PCA(n_components=2)\n",
    "# pca = pca_model.fit_transform(utility_matrix.toarray()[:, movies[\"movieId\"]].T)\n",
    "# for g in genres:\n",
    "#     fig, ax = plt.subplots()\n",
    "#     plt.title(g)\n",
    "#     scatter = ax.scatter(pca[:, 0], pca[:, 1], c = movies[g])\n",
    "#     legend1 = ax.legend(*scatter.legend_elements(),\n",
    "#                     loc=\"upper right\", title=\"Classes\")\n",
    "#     ax.add_artist(legend1)\n",
    "#     plt.show()"
   ]
  },
  {
   "cell_type": "code",
   "execution_count": 18,
   "metadata": {
    "pycharm": {
     "name": "#%%\n",
     "is_executing": false
    }
   },
   "outputs": [],
   "source": [
    "# clf = DecisionTreeClassifier(random_state=0)\n",
    "# cross_val_score(clf, utility_matrix.toarray()[:, movies[\"movieId\"]].T, movies[\"Action\"], cv=10)\n",
    "# export_tree(clf, range(X.shape[1]), \"cross_val.pdf\")\n"
   ]
  },
  {
   "cell_type": "code",
   "execution_count": 19,
   "outputs": [
    {
     "data": {
      "text/plain": "   user_0  user_1  user_2  user_3  user_4  user_5  user_6  user_7  user_8  \\\n0     0.0     4.0     0.0     0.0     0.0     4.0     0.0     4.5     0.0   \n1     0.0     0.0     0.0     0.0     0.0     0.0     4.0     0.0     4.0   \n2     0.0     4.0     0.0     0.0     0.0     0.0     5.0     0.0     0.0   \n3     0.0     0.0     0.0     0.0     0.0     0.0     3.0     0.0     0.0   \n4     0.0     0.0     0.0     0.0     0.0     0.0     5.0     0.0     0.0   \n\n   user_9  ...  Film-Noir  Crime  Romance  Musical    War  Mystery   IMAX  \\\n0     0.0  ...      False  False    False    False  False    False  False   \n1     0.0  ...      False  False    False    False  False    False  False   \n2     0.0  ...      False  False     True    False  False    False  False   \n3     0.0  ...      False  False     True    False  False    False  False   \n4     0.0  ...      False  False    False    False  False    False  False   \n\n   Comedy  Fantasy      mean  \n0    True     True  3.920930  \n1   False     True  3.431818  \n2    True    False  3.259615  \n3    True    False  2.357143  \n4    True    False  3.071429  \n\n[5 rows x 631 columns]",
      "text/html": "<div>\n<style scoped>\n    .dataframe tbody tr th:only-of-type {\n        vertical-align: middle;\n    }\n\n    .dataframe tbody tr th {\n        vertical-align: top;\n    }\n\n    .dataframe thead th {\n        text-align: right;\n    }\n</style>\n<table border=\"1\" class=\"dataframe\">\n  <thead>\n    <tr style=\"text-align: right;\">\n      <th></th>\n      <th>user_0</th>\n      <th>user_1</th>\n      <th>user_2</th>\n      <th>user_3</th>\n      <th>user_4</th>\n      <th>user_5</th>\n      <th>user_6</th>\n      <th>user_7</th>\n      <th>user_8</th>\n      <th>user_9</th>\n      <th>...</th>\n      <th>Film-Noir</th>\n      <th>Crime</th>\n      <th>Romance</th>\n      <th>Musical</th>\n      <th>War</th>\n      <th>Mystery</th>\n      <th>IMAX</th>\n      <th>Comedy</th>\n      <th>Fantasy</th>\n      <th>mean</th>\n    </tr>\n  </thead>\n  <tbody>\n    <tr>\n      <th>0</th>\n      <td>0.0</td>\n      <td>4.0</td>\n      <td>0.0</td>\n      <td>0.0</td>\n      <td>0.0</td>\n      <td>4.0</td>\n      <td>0.0</td>\n      <td>4.5</td>\n      <td>0.0</td>\n      <td>0.0</td>\n      <td>...</td>\n      <td>False</td>\n      <td>False</td>\n      <td>False</td>\n      <td>False</td>\n      <td>False</td>\n      <td>False</td>\n      <td>False</td>\n      <td>True</td>\n      <td>True</td>\n      <td>3.920930</td>\n    </tr>\n    <tr>\n      <th>1</th>\n      <td>0.0</td>\n      <td>0.0</td>\n      <td>0.0</td>\n      <td>0.0</td>\n      <td>0.0</td>\n      <td>0.0</td>\n      <td>4.0</td>\n      <td>0.0</td>\n      <td>4.0</td>\n      <td>0.0</td>\n      <td>...</td>\n      <td>False</td>\n      <td>False</td>\n      <td>False</td>\n      <td>False</td>\n      <td>False</td>\n      <td>False</td>\n      <td>False</td>\n      <td>False</td>\n      <td>True</td>\n      <td>3.431818</td>\n    </tr>\n    <tr>\n      <th>2</th>\n      <td>0.0</td>\n      <td>4.0</td>\n      <td>0.0</td>\n      <td>0.0</td>\n      <td>0.0</td>\n      <td>0.0</td>\n      <td>5.0</td>\n      <td>0.0</td>\n      <td>0.0</td>\n      <td>0.0</td>\n      <td>...</td>\n      <td>False</td>\n      <td>False</td>\n      <td>True</td>\n      <td>False</td>\n      <td>False</td>\n      <td>False</td>\n      <td>False</td>\n      <td>True</td>\n      <td>False</td>\n      <td>3.259615</td>\n    </tr>\n    <tr>\n      <th>3</th>\n      <td>0.0</td>\n      <td>0.0</td>\n      <td>0.0</td>\n      <td>0.0</td>\n      <td>0.0</td>\n      <td>0.0</td>\n      <td>3.0</td>\n      <td>0.0</td>\n      <td>0.0</td>\n      <td>0.0</td>\n      <td>...</td>\n      <td>False</td>\n      <td>False</td>\n      <td>True</td>\n      <td>False</td>\n      <td>False</td>\n      <td>False</td>\n      <td>False</td>\n      <td>True</td>\n      <td>False</td>\n      <td>2.357143</td>\n    </tr>\n    <tr>\n      <th>4</th>\n      <td>0.0</td>\n      <td>0.0</td>\n      <td>0.0</td>\n      <td>0.0</td>\n      <td>0.0</td>\n      <td>0.0</td>\n      <td>5.0</td>\n      <td>0.0</td>\n      <td>0.0</td>\n      <td>0.0</td>\n      <td>...</td>\n      <td>False</td>\n      <td>False</td>\n      <td>False</td>\n      <td>False</td>\n      <td>False</td>\n      <td>False</td>\n      <td>False</td>\n      <td>True</td>\n      <td>False</td>\n      <td>3.071429</td>\n    </tr>\n  </tbody>\n</table>\n<p>5 rows × 631 columns</p>\n</div>"
     },
     "metadata": {},
     "output_type": "execute_result",
     "execution_count": 19
    }
   ],
   "source": [
    "Tree_data = pd.DataFrame(\n",
    "        data=utility_matrix.toarray()[:, movies[\"movieId\"]].T,\n",
    "        # index=movies[\"movieId\"],\n",
    "        columns=[f\"user_{x}\" for x in range(utility_matrix.shape[0])]\n",
    "\n",
    ")\n",
    "# movies.shape, utility_matrix.toarray()[:, movies[\"movieId\"]].T.shape\n",
    "# print(Tree_data.shape, movies[list(genres)].shape, movies[\"mean\"].shape)\n",
    "Tree_data[list(genres)] = movies[list(genres)]\n",
    "Tree_data['mean'] = movies['mean']\n",
    "Tree_data = Tree_data.fillna(0)\n",
    "Tree_data.head()"
   ],
   "metadata": {
    "collapsed": false,
    "pycharm": {
     "name": "#%%\n",
     "is_executing": false
    }
   }
  },
  {
   "cell_type": "code",
   "execution_count": 23,
   "outputs": [],
   "source": [
    "data = {}\n",
    "for genre in genres:\n",
    "    clf = tree.DecisionTreeClassifier(\n",
    "            max_depth=30, \n",
    "            min_samples_split=20, \n",
    "            min_samples_leaf=10, \n",
    "            min_impurity_decrease=0.0001, \n",
    "            class_weight='balanced'\n",
    "            )\n",
    "    \n",
    "    # genre = 'Animation'\n",
    "    X = Tree_data.drop(genre, axis=1)\n",
    "    y = Tree_data[genre]\n",
    "    clf = clf.fit(X, y)\n",
    "    score_val = np.sum(cross_val_score(clf, X, y, cv=10))/10\n",
    "    # print(f\"\"\"{genre}:\n",
    "    # Quentity: {len(y[Tree_data[genre] == True])} / {len(y[Tree_data[genre] != True])}\n",
    "    # True positives: {clf.score(X[Tree_data[genre] == True], y[Tree_data[genre] == True])}\n",
    "    # Accuracy: {clf.score(X, y)}\n",
    "    # Cross-val: {score_val}\"\"\"\n",
    "    #         )\n",
    "    data[genre] = [len(y[Tree_data[genre] == True]), score_val]\n",
    "    # export_tree(clf, X.columns, f\"custom_{genre}.pdf\")"
   ],
   "metadata": {
    "collapsed": false,
    "pycharm": {
     "name": "#%%\n",
     "is_executing": false
    }
   }
  },
  {
   "cell_type": "code",
   "execution_count": 66,
   "outputs": [
    {
     "name": "stdout",
     "text": [
      "0.8677889550400328\n"
     ],
     "output_type": "stream"
    }
   ],
   "source": [
    "# clf = tree.DecisionTreeClassifier(max_depth=30, min_samples_split=20, min_samples_leaf=10, )\n",
    "# clf = clf.fit(Tree_data.drop(genres, axis=1), y)\n",
    "# print(clf.score(Tree_data.drop(genres, axis=1), y))\n",
    "# export_tree(clf, Tree_data.drop(genres, axis=1).columns, \"custom2.pdf\")"
   ],
   "metadata": {
    "collapsed": false,
    "pycharm": {
     "name": "#%%\n",
     "is_executing": false
    }
   }
  },
  {
   "cell_type": "code",
   "execution_count": 29,
   "outputs": [
    {
     "data": {
      "text/plain": "<Figure size 1080x1080 with 1 Axes>",
      "image/png": "[encoded data removed]"
     },
     "metadata": {
      "needs_background": "light"
     },
     "output_type": "display_data"
    }
   ],
   "source": [
    "fig, ax = plt.subplots(figsize=(15,15))\n",
    "v1, v2 = list(zip(*data.values()))\n",
    "ax.scatter(v1, v2)\n",
    "\n",
    "for i, txt in enumerate(data.keys()):\n",
    "    ax.annotate(txt, (v1[i], v2[i]))\n",
    "\n"
   ],
   "metadata": {
    "collapsed": false,
    "pycharm": {
     "name": "#%%\n",
     "is_executing": false
    }
   }
  }
 ],
 "metadata": {
  "kernelspec": {
   "display_name": "Python 3",
   "language": "python",
   "name": "python3"
  },
  "language_info": {
   "codemirror_mode": {
    "name": "ipython",
    "version": 3
   },
   "file_extension": ".py",
   "mimetype": "text/x-python",
   "name": "python",
   "nbconvert_exporter": "python",
   "pygments_lexer": "ipython3",
   "version": "3.7.3"
  },
  "pycharm": {
   "stem_cell": {
    "cell_type": "raw",
    "source": [],
    "metadata": {
     "collapsed": false
    }
   }
  }
 },
 "nbformat": 4,
 "nbformat_minor": 2
}